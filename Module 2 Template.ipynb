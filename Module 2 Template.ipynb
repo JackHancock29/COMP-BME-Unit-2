{
 "cells": [
  {
   "cell_type": "markdown",
   "id": "07d08828-39be-453d-9c15-7d0737ceb72f",
   "metadata": {},
   "source": [
    "## Module_2:\n",
    "\n",
    "## Team Members:\n",
    "Meredith Lineweaver and Jack Hancock\n",
    "\n",
    "## Project Title:\n",
    "Idiopathic Lung Fibrosis\n",
    "\n"
   ]
  },
  {
   "cell_type": "markdown",
   "id": "8372d796-186a-4ae2-9b4f-0065979e555a",
   "metadata": {},
   "source": [
    "## Project Goal:\n",
    "This project seeks to develop an image analysis pipeline that will predict the extent of fibrosis in the lung at different biopsy depths from the top of the lung. "
   ]
  },
  {
   "attachments": {},
   "cell_type": "markdown",
   "id": "91408b75-185a-4d66-9ce7-7c7aabbde5e1",
   "metadata": {},
   "source": [
    "## Disease Background: \n",
    "*Fill in information and please note that this module is truncated and only has 5 bullets (instead of the 11 that you did for Module #1).*\n",
    "\n",
    "* Prevalence & incidence: 132,000 to 200,000 people in the U.S. live with it. 5.8 per 100,000 persons are diagnosed each year. Currently 17.7 per 100,000 people are living with IPF. \n",
    "* Risk factors (genetic, lifestyle): over 50 years of age, being male, smoking tabacco, genetic factors, and viral exposure\n",
    "* Symptoms: difficulty breathing, persistent dry cough, fatigue\n",
    "* Standard of care treatment(s): supplemental oxygen and medicine to slow progression, the only cure is a lung transplant\n",
    "* Biological mechanisms (anatomy, organ physiology, cell & molecular physiology): The alveoli are typically covered by soft flexible tissue transporting blood. In idiopathic pulmonary fibrosis, the soft tissue has permanent scaring. The cause for excess scar tissue is unknown. "
   ]
  },
  {
   "cell_type": "markdown",
   "id": "3b99aefb-cb03-4bd8-b972-437eb0e02dfe",
   "metadata": {},
   "source": [
    "## Data-Set: \n",
    "The sources analyzed for this project are 78 black and white images (.jpg) collected at different depths into a fibrotic mouse lung. The white spots represent a fibrotic lesion, whle the black represents healthy lung. Only 6 images will be used for analysis. These images were provided by Dr. Pierce-Cottler. "
   ]
  },
  {
   "cell_type": "markdown",
   "id": "f4cde622-5508-4a54-aba8-77b454138bff",
   "metadata": {},
   "source": [
    "# DATA ANALYSIS\n",
    "# Module 2: count black and white pixels in a .jpg and extrapolate points\n",
    "\n",
    "from termcolor import colored\n",
    "import cv2\n",
    "import numpy as np\n",
    "import matplotlib.pyplot as plt\n",
    "from scipy.interpolate import interp1d\n",
    "import pandas as pd\n",
    "import os\n",
    "\n",
    "# Load the images you want to analyze\n",
    "\n",
    "filenames = [\n",
    "    r'/Users/meredithlineweaver/Desktop/Computational BME/Project 2/MASK_Sk658 Llobe ch010017.jpg',\n",
    "    r\"/Users/meredithlineweaver/Desktop/Computational BME/Project 2/MASK_SK658 Llobe ch010019.jpg\",\n",
    "    r\"/Users/meredithlineweaver/Desktop/Computational BME/Project 2/MASK_SK658 Llobe ch010021.jpg\",\n",
    "    r\"/Users/meredithlineweaver/Desktop/Computational BME/Project 2/MASK_SK658 Llobe ch010022.jpg\",\n",
    "    r\"/Users/meredithlineweaver/Desktop/Computational BME/Project 2/MASK_SK658 Llobe ch010023.jpg\",\n",
    "    r\"/Users/meredithlineweaver/Desktop/Computational BME/Project 2/MASK_SK658 Llobe ch010024.jpg\",\n",
    "            ]\n",
    "\n",
    "# Enter the depth of each image (in the same order that the images are listed above; you can find these in the .csv file provided to you which is tilted: \"Filenames and Depths for Students\")\n",
    "\n",
    "depths = [\n",
    "    45,\n",
    "    60,\n",
    "    30,\n",
    "    80,\n",
    "    100,\n",
    "    600\n",
    "    ]\n",
    "\n",
    "# Make the lists that will be used\n",
    "\n",
    "images = []\n",
    "white_counts = []\n",
    "black_counts = []\n",
    "white_percents = []\n",
    "\n",
    "# Build the list of all the images you are analyzing\n",
    "\n",
    "for filename in filenames:\n",
    "    img = cv2.imread(filename, 0)\n",
    "    images.append(img)\n",
    "\n",
    "# For each image (until the end of the list of images), calculate the number of black and white pixels and make a list that contains this information for each filename.\n",
    "\n",
    "for x in range(len(filenames)):\n",
    "    _, binary = cv2.threshold(images[x], 127, 255, cv2.THRESH_BINARY)\n",
    "\n",
    "    white = np.sum(binary == 255)\n",
    "    black = np.sum(binary == 0)\n",
    "\n",
    "    white_counts.append(white)\n",
    "    black_counts.append(black)\n",
    "\n",
    "# Print the number of white and black pixels in each image.\n",
    "\n",
    "print(colored(\"Counts of pixel by color in each image\", \"yellow\"))\n",
    "for x in range(len(filenames)):\n",
    "    print(colored(f\"White pixels in image {x}: {white_counts[x]}\", \"white\"))\n",
    "    print(colored(f\"Black pixels in image {x}: {black_counts[x]}\", \"black\"))\n",
    "    print()\n",
    "\n",
    "# Calculate the percentage of pixels in each image that are white and make a list that contains these percentages for each filenamae\n",
    "\n",
    "for x in range(len(filenames)):\n",
    "    white_percent = (100 * (white_counts[x] / (black_counts[x] + white_counts[x])))\n",
    "    white_percents.append(white_percent)\n",
    "\n",
    "# Print the filename (on one line in red font), and below that line print the percent white pixels and depth\n",
    "\n",
    "print(colored(\"Percent white px:\", \"yellow\"))\n",
    "for x in range(len(filenames)):\n",
    "    print(colored(f'{filenames[x]}:',\"red\"))\n",
    "    print(f'{white_percents[x]}% White | Depth: {depths[x]} microns')\n",
    "    print()\n",
    "\n",
    "'''Write your data to a .csv file'''\n",
    "\n",
    "# Create a DataFrame that includes the filenames, depths, and percentage of white pixels\n",
    "df = pd.DataFrame({\n",
    "    'Filenames': filenames,\n",
    "    'Depths': depths,\n",
    "    'White percents': white_percents       \n",
    "})\n",
    "\n",
    "# Write that DataFrame to a .csv file\n",
    "\n",
    "df.to_csv('Percent_White_Pixels.csv', index=False)\n",
    "\n",
    "print(\"CSV file 'Percent_White_Pixels.csv' has been created.\")\n",
    "\n",
    "'''the .csv writing subroutine ends here'''"
   ]
  },
  {
   "cell_type": "markdown",
   "id": "5c67b6a4-ec94-4d28-b2a7-f6b860495118",
   "metadata": {},
   "source": [
    "## Verify and validate your analysis: \n",
    "To verify our analysis, we first checked that our interpolation results made logical and numerical sense. The value obtained from the linear interpolation fell between the two known data points, which aligns with expected behavior, while the quadratic interpolation produced a higher fibrosis value than measurements at greater depths, suggesting potential overfitting. This observation confirmed that the linear model more accurately represented the biological trend of fibrosis progression. To further validate our results, we compared our interpolated fibrosis values to the corresponding data provided by Dr. Pierce-Cottler at the same tissue depth, finding close agreement for the linear prediction. We also compared both interpolation methods and determined that the linear approach produced values more consistent with real data and biological expectations. Finally, our observed trend, showing that fibrosis increases with depth, is consistent with subpleural-dominant patterns of fibrosis reported in bleomycin-induced mouse models by Lee (2014) and Decologne (2009). Together, these findings confirm that our analysis is both internally consistent and supported by established research, validating the reliability of our image-based quantification pipeline."
   ]
  },
  {
   "cell_type": "markdown",
   "id": "2736cf95-2b93-444f-90c8-d40a54fc1df1",
   "metadata": {},
   "source": [
    "## Conclusions and Ethical Implications: \n",
    "Our analysis demonstrated that the extent of fibrosis in bleomycin-treated mouse lungs increases progressively with tissue depth, indicating that deeper regions of the lung exhibit more extensive scarring. The linear interpolation method provided more accurate and biologically realistic predictions of fibrosis compared to the quadratic model, as it better aligned with the measured data and published findings such as those by Gilhodes et al. (2017), who used similar image-based quantification methods. These results suggest that a depth-based image analysis pipeline can effectively estimate fibrosis at unmeasured depths, which has important implications for the design of a new biopsy device capable of targeting specific regions of diseased tissue. From an ethical perspective, improving biopsy precision could greatly benefit patients by reducing the invasiveness of diagnostic procedures and minimizing the risk of sampling error. It would also support clinicians in making more accurate diagnoses and treatment decisions. However, these benefits come with the responsibility to ensure that automated image analysis tools are validated across diverse datasets and used transparently to avoid bias or misinterpretation. As such technologies move closer to clinical use, careful oversight and data protection will be essential to uphold patient safety and privacy."
   ]
  },
  {
   "cell_type": "markdown",
   "id": "f023b735-6efb-43ed-a03d-eb4a9cdb734e",
   "metadata": {},
   "source": [
    "## Limitations and Future Work: \n",
    "*Although our analysis provided valuable insight into how fibrosis varies with tissue depth, several limitations must be acknowledged. Our dataset was relatively small, as we analyzed only a subset of the available histological images, which may limit the statistical strength and generalizability of our findings. Additionally, interpolation assumes a smooth and consistent relationship between depth and fibrosis, which may oversimplify biological variability within lung tissue. The classification of fibrotic versus healthy regions was also dependent on image contrast and thresholding methods, introducing potential sources of error in the white-pixel quantification. Future work should focus on analyzing all 78 images in the dataset to improve accuracy and confidence in the model. Expanding the pipeline to incorporate 3D image reconstruction could provide a more complete view of fibrosis distribution across the lung. Implementing machine learning techniques could automate the segmentation process and enhance precision in fibrosis detection. Finally, validating this approach on human lung biopsy samples would strengthen the clinical relevance of our findings and move closer to developing a biopsy device capable of precisely targeting fibrotic regions for improved diagnosis and treatment planning.*"
   ]
  },
  {
   "cell_type": "code",
   "execution_count": null,
   "id": "92a6da8d",
   "metadata": {},
   "outputs": [],
   "source": []
  },
  {
   "cell_type": "markdown",
   "id": "d9295960-2404-43dc-b46f-9a6f823f1657",
   "metadata": {},
   "source": [
    "## NOTES FROM YOUR TEAM: \n",
    "*This is where our team is taking notes and recording activity.*"
   ]
  },
  {
   "cell_type": "markdown",
   "id": "bd725b7f-9741-46b6-a213-9518da9201c3",
   "metadata": {},
   "source": [
    "## QUESTIONS FOR YOUR TA: \n",
    "*These are questions we have for our TA.*"
   ]
  },
  {
   "cell_type": "code",
   "execution_count": null,
   "id": "0d0190cf-c056-4b2c-a0c0-a56dfb854a55",
   "metadata": {},
   "outputs": [],
   "source": []
  }
 ],
 "metadata": {
  "kernelspec": {
   "display_name": "Python [conda env:base] *",
   "language": "python",
   "name": "conda-base-py"
  },
  "language_info": {
   "codemirror_mode": {
    "name": "ipython",
    "version": 3
   },
   "file_extension": ".py",
   "mimetype": "text/x-python",
   "name": "python",
   "nbconvert_exporter": "python",
   "pygments_lexer": "ipython3",
   "version": "3.13.5"
  }
 },
 "nbformat": 4,
 "nbformat_minor": 5
}
